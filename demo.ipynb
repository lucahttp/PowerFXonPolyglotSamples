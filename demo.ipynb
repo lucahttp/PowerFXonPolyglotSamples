{
 "cells": [
  {
   "cell_type": "code",
   "execution_count": null,
   "metadata": {
    "dotnet_interactive": {
     "language": "csharp"
    },
    "polyglot_notebook": {
     "kernelName": "csharp"
    }
   },
   "outputs": [],
   "source": [
    "#i \"nuget:https://pkgs.dev.azure.com/Power-Fx/7dd30b4a-31be-4ac9-a649-e6addd4d5b0a/_packaging/PowerFx/nuget/v3/index.json\"\n",
    "#r \"nuget:PowerFx.NET.Interactive\""
   ]
  },
  {
   "cell_type": "code",
   "execution_count": null,
   "metadata": {
    "dotnet_interactive": {
     "language": "powerfx"
    },
    "polyglot_notebook": {
     "kernelName": "powerfx"
    }
   },
   "outputs": [],
   "source": [
    "ClearCollect( Products,\n",
    "    Table(\n",
    "        { Product: \"Widget\",    'Quantity Requested': 6,  'Quantity Available': 3 },\n",
    "        { Product: \"Gadget\",    'Quantity Requested': 10, 'Quantity Available': 20 },\n",
    "        { Product: \"Gizmo\",     'Quantity Requested': 4,  'Quantity Available': 11 },\n",
    "        { Product: \"Apparatus\", 'Quantity Requested': 7,  'Quantity Available': 6 }\n",
    "    )\n",
    ");\n",
    "First(Products);\n",
    "AddColumns( Filter( Products, 'Quantity Requested' > 'Quantity Available' ), 'Quantity To Order', 'Quantity Requested' - 'Quantity Available');"
   ]
  }
 ],
 "metadata": {
  "kernelspec": {
   "display_name": ".NET (C#)",
   "language": "C#",
   "name": ".net-csharp"
  },
  "polyglot_notebook": {
   "kernelInfo": {
    "defaultKernelName": "csharp",
    "items": [
     {
      "aliases": [],
      "languageName": "csharp",
      "name": "csharp"
     },
     {
      "aliases": [],
      "languageName": "Power Fx",
      "name": "powerfx"
     }
    ]
   }
  }
 },
 "nbformat": 4,
 "nbformat_minor": 2
}
